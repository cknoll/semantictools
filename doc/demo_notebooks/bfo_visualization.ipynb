{
 "cells": [
  {
   "cell_type": "code",
   "execution_count": 1,
   "metadata": {},
   "outputs": [
    {
     "name": "stdout",
     "output_type": "stream",
     "text": [
      "Sat Mar 26 18:06:51 2022\n"
     ]
    },
    {
     "data": {
      "application/javascript": [
       "\n",
       "            setTimeout(function() {\n",
       "                var nbb_cell_id = 1;\n",
       "                var nbb_unformatted_code = \"import time\\n\\nprint(time.ctime())\\n%load_ext nb_black\\n%load_ext ipydex.displaytools\";\n",
       "                var nbb_formatted_code = \"import time\\n\\nprint(time.ctime())\\n%load_ext nb_black\\n%load_ext ipydex.displaytools\";\n",
       "                var nbb_cells = Jupyter.notebook.get_cells();\n",
       "                for (var i = 0; i < nbb_cells.length; ++i) {\n",
       "                    if (nbb_cells[i].input_prompt_number == nbb_cell_id) {\n",
       "                        if (nbb_cells[i].get_text() == nbb_unformatted_code) {\n",
       "                             nbb_cells[i].set_text(nbb_formatted_code);\n",
       "                        }\n",
       "                        break;\n",
       "                    }\n",
       "                }\n",
       "            }, 500);\n",
       "            "
      ],
      "text/plain": [
       "<IPython.core.display.Javascript object>"
      ]
     },
     "metadata": {},
     "output_type": "display_data"
    }
   ],
   "source": [
    "import time\n",
    "\n",
    "print(time.ctime())\n",
    "%load_ext nb_black\n",
    "%load_ext ipydex.displaytools"
   ]
  },
  {
   "cell_type": "code",
   "execution_count": 2,
   "metadata": {},
   "outputs": [
    {
     "data": {
      "application/javascript": [
       "\n",
       "            setTimeout(function() {\n",
       "                var nbb_cell_id = 2;\n",
       "                var nbb_unformatted_code = \"import os\\nfrom IPython.display import SVG, display, HTML\\n\\n# for graphviz visualization of networkx graphs\\nimport nxv\\n\\nimport owlready2 as owl2\\nfrom semantictools import core as smt\";\n",
       "                var nbb_formatted_code = \"import os\\nfrom IPython.display import SVG, display, HTML\\n\\n# for graphviz visualization of networkx graphs\\nimport nxv\\n\\nimport owlready2 as owl2\\nfrom semantictools import core as smt\";\n",
       "                var nbb_cells = Jupyter.notebook.get_cells();\n",
       "                for (var i = 0; i < nbb_cells.length; ++i) {\n",
       "                    if (nbb_cells[i].input_prompt_number == nbb_cell_id) {\n",
       "                        if (nbb_cells[i].get_text() == nbb_unformatted_code) {\n",
       "                             nbb_cells[i].set_text(nbb_formatted_code);\n",
       "                        }\n",
       "                        break;\n",
       "                    }\n",
       "                }\n",
       "            }, 500);\n",
       "            "
      ],
      "text/plain": [
       "<IPython.core.display.Javascript object>"
      ]
     },
     "metadata": {},
     "output_type": "display_data"
    }
   ],
   "source": [
    "import os\n",
    "from IPython.display import SVG, display, HTML\n",
    "\n",
    "# for graphviz visualization of networkx graphs\n",
    "import nxv\n",
    "\n",
    "import owlready2 as owl2\n",
    "from semantictools import core as smt"
   ]
  },
  {
   "cell_type": "code",
   "execution_count": 3,
   "metadata": {},
   "outputs": [
    {
     "data": {
      "application/javascript": [
       "\n",
       "            setTimeout(function() {\n",
       "                var nbb_cell_id = 3;\n",
       "                var nbb_unformatted_code = \"path = os.path.join(\\\"..\\\", \\\"..\\\", \\\"tests\\\", \\\"testdata\\\", \\\"bfo.owl\\\")\\nbfo = owl2.get_ontology(path).load()\";\n",
       "                var nbb_formatted_code = \"path = os.path.join(\\\"..\\\", \\\"..\\\", \\\"tests\\\", \\\"testdata\\\", \\\"bfo.owl\\\")\\nbfo = owl2.get_ontology(path).load()\";\n",
       "                var nbb_cells = Jupyter.notebook.get_cells();\n",
       "                for (var i = 0; i < nbb_cells.length; ++i) {\n",
       "                    if (nbb_cells[i].input_prompt_number == nbb_cell_id) {\n",
       "                        if (nbb_cells[i].get_text() == nbb_unformatted_code) {\n",
       "                             nbb_cells[i].set_text(nbb_formatted_code);\n",
       "                        }\n",
       "                        break;\n",
       "                    }\n",
       "                }\n",
       "            }, 500);\n",
       "            "
      ],
      "text/plain": [
       "<IPython.core.display.Javascript object>"
      ]
     },
     "metadata": {},
     "output_type": "display_data"
    }
   ],
   "source": [
    "path = os.path.join(\"..\", \"..\", \"tests\", \"testdata\", \"bfo.owl\")\n",
    "bfo = owl2.get_ontology(path).load()\n"
   ]
  },
  {
   "cell_type": "code",
   "execution_count": 4,
   "metadata": {},
   "outputs": [
    {
     "data": {
      "application/javascript": [
       "\n",
       "            setTimeout(function() {\n",
       "                var nbb_cell_id = 4;\n",
       "                var nbb_unformatted_code = \"gv = smt.GraphVisualizer()\";\n",
       "                var nbb_formatted_code = \"gv = smt.GraphVisualizer()\";\n",
       "                var nbb_cells = Jupyter.notebook.get_cells();\n",
       "                for (var i = 0; i < nbb_cells.length; ++i) {\n",
       "                    if (nbb_cells[i].input_prompt_number == nbb_cell_id) {\n",
       "                        if (nbb_cells[i].get_text() == nbb_unformatted_code) {\n",
       "                             nbb_cells[i].set_text(nbb_formatted_code);\n",
       "                        }\n",
       "                        break;\n",
       "                    }\n",
       "                }\n",
       "            }, 500);\n",
       "            "
      ],
      "text/plain": [
       "<IPython.core.display.Javascript object>"
      ]
     },
     "metadata": {},
     "output_type": "display_data"
    }
   ],
   "source": [
    "gv = smt.GraphVisualizer()"
   ]
  },
  {
   "cell_type": "code",
   "execution_count": 5,
   "metadata": {},
   "outputs": [
    {
     "data": {
      "text/plain": [
       "36"
      ]
     },
     "execution_count": 5,
     "metadata": {},
     "output_type": "execute_result"
    },
    {
     "data": {
      "application/javascript": [
       "\n",
       "            setTimeout(function() {\n",
       "                var nbb_cell_id = 5;\n",
       "                var nbb_unformatted_code = \"G = gv.generate_taxonomy_graph_from_onto(owl2.Thing)\\n\\nG.number_of_nodes()\";\n",
       "                var nbb_formatted_code = \"G = gv.generate_taxonomy_graph_from_onto(owl2.Thing)\\n\\nG.number_of_nodes()\";\n",
       "                var nbb_cells = Jupyter.notebook.get_cells();\n",
       "                for (var i = 0; i < nbb_cells.length; ++i) {\n",
       "                    if (nbb_cells[i].input_prompt_number == nbb_cell_id) {\n",
       "                        if (nbb_cells[i].get_text() == nbb_unformatted_code) {\n",
       "                             nbb_cells[i].set_text(nbb_formatted_code);\n",
       "                        }\n",
       "                        break;\n",
       "                    }\n",
       "                }\n",
       "            }, 500);\n",
       "            "
      ],
      "text/plain": [
       "<IPython.core.display.Javascript object>"
      ]
     },
     "metadata": {},
     "output_type": "display_data"
    }
   ],
   "source": [
    "G = gv.generate_taxonomy_graph_from_onto(owl2.Thing)\n",
    "\n",
    "G.number_of_nodes()"
   ]
  },
  {
   "cell_type": "code",
   "execution_count": 6,
   "metadata": {},
   "outputs": [
    {
     "data": {
      "application/javascript": [
       "\n",
       "            setTimeout(function() {\n",
       "                var nbb_cell_id = 6;\n",
       "                var nbb_unformatted_code = \"style = nxv.Style(\\n    graph={\\\"rankdir\\\": \\\"BT\\\"},\\n    node=lambda u, d: {\\n        \\\"shape\\\": \\\"circle\\\",\\n        \\\"fixedsize\\\": True,\\n        \\\"width\\\": 1,\\n        \\\"fontsize\\\": 10,\\n    },\\n    edge=lambda u, v, d: {\\\"style\\\": \\\"solid\\\", \\\"arrowType\\\": \\\"normal\\\", \\\"label\\\": \\\"is a\\\"},\\n)\\n\\nsvg_data = nxv.render(G, style, format=\\\"svg\\\")\";\n",
       "                var nbb_formatted_code = \"style = nxv.Style(\\n    graph={\\\"rankdir\\\": \\\"BT\\\"},\\n    node=lambda u, d: {\\n        \\\"shape\\\": \\\"circle\\\",\\n        \\\"fixedsize\\\": True,\\n        \\\"width\\\": 1,\\n        \\\"fontsize\\\": 10,\\n    },\\n    edge=lambda u, v, d: {\\\"style\\\": \\\"solid\\\", \\\"arrowType\\\": \\\"normal\\\", \\\"label\\\": \\\"is a\\\"},\\n)\\n\\nsvg_data = nxv.render(G, style, format=\\\"svg\\\")\";\n",
       "                var nbb_cells = Jupyter.notebook.get_cells();\n",
       "                for (var i = 0; i < nbb_cells.length; ++i) {\n",
       "                    if (nbb_cells[i].input_prompt_number == nbb_cell_id) {\n",
       "                        if (nbb_cells[i].get_text() == nbb_unformatted_code) {\n",
       "                             nbb_cells[i].set_text(nbb_formatted_code);\n",
       "                        }\n",
       "                        break;\n",
       "                    }\n",
       "                }\n",
       "            }, 500);\n",
       "            "
      ],
      "text/plain": [
       "<IPython.core.display.Javascript object>"
      ]
     },
     "metadata": {},
     "output_type": "display_data"
    }
   ],
   "source": [
    "style = nxv.Style(\n",
    "    graph={\"rankdir\": \"BT\"},\n",
    "    node=lambda u, d: {\n",
    "        \"shape\": \"circle\",\n",
    "        \"fixedsize\": True,\n",
    "        \"width\": 1,\n",
    "        \"fontsize\": 10,\n",
    "    },\n",
    "    edge=lambda u, v, d: {\"style\": \"solid\", \"arrowType\": \"normal\", \"label\": \"is a\"},\n",
    ")\n",
    "\n",
    "svg_data = nxv.render(G, style, format=\"svg\")"
   ]
  },
  {
   "cell_type": "code",
   "execution_count": 7,
   "metadata": {},
   "outputs": [
    {
     "data": {
      "text/html": [
       "<a href='bfo.svg'>bfo.svg</a>"
      ],
      "text/plain": [
       "<IPython.core.display.HTML object>"
      ]
     },
     "metadata": {},
     "output_type": "display_data"
    },
    {
     "data": {
      "text/html": [
       "<a href=\"bfo.svg\" title=\"click for original size\"><img width=\"100%\" src=\"bfo.svg\"></a>"
      ],
      "text/plain": [
       "<IPython.core.display.HTML object>"
      ]
     },
     "execution_count": 7,
     "metadata": {},
     "output_type": "execute_result"
    },
    {
     "data": {
      "application/javascript": [
       "\n",
       "            setTimeout(function() {\n",
       "                var nbb_cell_id = 7;\n",
       "                var nbb_unformatted_code = \"svg_fname = \\\"bfo.svg\\\"\\n\\nwith open(svg_fname, \\\"wb\\\") as svgfile:\\n    svgfile.write(svg_data)\\n\\ndisplay(HTML(f\\\"<a href='{svg_fname}'>{svg_fname}</a>\\\"))\\n\\nHTML(\\n    f'<a href=\\\"{svg_fname}\\\" title=\\\"click for original size\\\"><img width=\\\"100%\\\" src=\\\"{svg_fname}\\\"></a>'\\n)\";\n",
       "                var nbb_formatted_code = \"svg_fname = \\\"bfo.svg\\\"\\n\\nwith open(svg_fname, \\\"wb\\\") as svgfile:\\n    svgfile.write(svg_data)\\n\\ndisplay(HTML(f\\\"<a href='{svg_fname}'>{svg_fname}</a>\\\"))\\n\\nHTML(\\n    f'<a href=\\\"{svg_fname}\\\" title=\\\"click for original size\\\"><img width=\\\"100%\\\" src=\\\"{svg_fname}\\\"></a>'\\n)\";\n",
       "                var nbb_cells = Jupyter.notebook.get_cells();\n",
       "                for (var i = 0; i < nbb_cells.length; ++i) {\n",
       "                    if (nbb_cells[i].input_prompt_number == nbb_cell_id) {\n",
       "                        if (nbb_cells[i].get_text() == nbb_unformatted_code) {\n",
       "                             nbb_cells[i].set_text(nbb_formatted_code);\n",
       "                        }\n",
       "                        break;\n",
       "                    }\n",
       "                }\n",
       "            }, 500);\n",
       "            "
      ],
      "text/plain": [
       "<IPython.core.display.Javascript object>"
      ]
     },
     "metadata": {},
     "output_type": "display_data"
    }
   ],
   "source": [
    "svg_fname = \"bfo.svg\"\n",
    "\n",
    "with open(svg_fname, \"wb\") as svgfile:\n",
    "    svgfile.write(svg_data)\n",
    "    \n",
    "display(HTML(f\"<a href='{svg_fname}'>{svg_fname}</a>\"))\n",
    "\n",
    "HTML(\n",
    "    f'<a href=\"{svg_fname}\" title=\"click for original size\"><img width=\"100%\" src=\"{svg_fname}\"></a>'\n",
    ")"
   ]
  },
  {
   "cell_type": "markdown",
   "metadata": {},
   "source": [
    "## Unlabled Version\n",
    "\n",
    "see the following links for styling docs:\n",
    "\n",
    "- https://nxv.readthedocs.io/en/latest/reference.html#styling\n",
    "- https://graphviz.org/doc/info/attrs.html"
   ]
  },
  {
   "cell_type": "code",
   "execution_count": 8,
   "metadata": {},
   "outputs": [
    {
     "data": {
      "text/html": [
       "<a href='bfo_unlabled.svg'>bfo_unlabled.svg</a>"
      ],
      "text/plain": [
       "<IPython.core.display.HTML object>"
      ]
     },
     "metadata": {},
     "output_type": "display_data"
    },
    {
     "data": {
      "text/html": [
       "<a href=\"bfo_unlabled.svg\" title=\"click for original size\"><img width=\"100%\" src=\"bfo_unlabled.svg\"></a>"
      ],
      "text/plain": [
       "<IPython.core.display.HTML object>"
      ]
     },
     "execution_count": 8,
     "metadata": {},
     "output_type": "execute_result"
    },
    {
     "data": {
      "application/javascript": [
       "\n",
       "            setTimeout(function() {\n",
       "                var nbb_cell_id = 8;\n",
       "                var nbb_unformatted_code = \"style = nxv.Style(\\n    graph={\\\"rankdir\\\": \\\"BT\\\", \\\"nodesep\\\": 0.05},\\n    node=lambda u, d: {\\n        \\\"shape\\\": \\\"point\\\",\\n        \\\"fixedsize\\\": True,\\n        \\\"width\\\": 0.1,\\n        \\\"fontsize\\\": 10,\\n        \\\"fillcolor\\\": \\\"#454545ff\\\",\\n    },\\n    edge=lambda u, v, d: {\\\"style\\\": \\\"solid\\\", \\\"arrowhead\\\": \\\"none\\\", \\\"color\\\": \\\"#959595ff\\\"},\\n)\\n\\nsvg_data = nxv.render(G, style, format=\\\"svg\\\")\\n\\nsvg_fname = \\\"bfo_unlabled.svg\\\"\\n\\nwith open(svg_fname, \\\"wb\\\") as svgfile:\\n    svgfile.write(svg_data)\\n\\ndisplay(HTML(f\\\"<a href='{svg_fname}'>{svg_fname}</a>\\\"))\\n\\nHTML(\\n    f'<a href=\\\"{svg_fname}\\\" title=\\\"click for original size\\\"><img width=\\\"100%\\\" src=\\\"{svg_fname}\\\"></a>'\\n)\";\n",
       "                var nbb_formatted_code = \"style = nxv.Style(\\n    graph={\\\"rankdir\\\": \\\"BT\\\", \\\"nodesep\\\": 0.05},\\n    node=lambda u, d: {\\n        \\\"shape\\\": \\\"point\\\",\\n        \\\"fixedsize\\\": True,\\n        \\\"width\\\": 0.1,\\n        \\\"fontsize\\\": 10,\\n        \\\"fillcolor\\\": \\\"#454545ff\\\",\\n    },\\n    edge=lambda u, v, d: {\\\"style\\\": \\\"solid\\\", \\\"arrowhead\\\": \\\"none\\\", \\\"color\\\": \\\"#959595ff\\\"},\\n)\\n\\nsvg_data = nxv.render(G, style, format=\\\"svg\\\")\\n\\nsvg_fname = \\\"bfo_unlabled.svg\\\"\\n\\nwith open(svg_fname, \\\"wb\\\") as svgfile:\\n    svgfile.write(svg_data)\\n\\ndisplay(HTML(f\\\"<a href='{svg_fname}'>{svg_fname}</a>\\\"))\\n\\nHTML(\\n    f'<a href=\\\"{svg_fname}\\\" title=\\\"click for original size\\\"><img width=\\\"100%\\\" src=\\\"{svg_fname}\\\"></a>'\\n)\";\n",
       "                var nbb_cells = Jupyter.notebook.get_cells();\n",
       "                for (var i = 0; i < nbb_cells.length; ++i) {\n",
       "                    if (nbb_cells[i].input_prompt_number == nbb_cell_id) {\n",
       "                        if (nbb_cells[i].get_text() == nbb_unformatted_code) {\n",
       "                             nbb_cells[i].set_text(nbb_formatted_code);\n",
       "                        }\n",
       "                        break;\n",
       "                    }\n",
       "                }\n",
       "            }, 500);\n",
       "            "
      ],
      "text/plain": [
       "<IPython.core.display.Javascript object>"
      ]
     },
     "metadata": {},
     "output_type": "display_data"
    }
   ],
   "source": [
    "style = nxv.Style(\n",
    "    graph={\"rankdir\": \"BT\", \"nodesep\": 0.05},\n",
    "    node=lambda u, d: {\n",
    "        \"shape\": \"point\",\n",
    "        \"fixedsize\": True,\n",
    "        \"width\": 0.1,\n",
    "        \"fontsize\": 10,\n",
    "        \"fillcolor\": \"#454545ff\",\n",
    "    },\n",
    "    edge=lambda u, v, d: {\"style\": \"solid\", \"arrowhead\": \"none\", \"color\": \"#959595ff\"},\n",
    ")\n",
    "\n",
    "svg_data = nxv.render(G, style, format=\"svg\")\n",
    "\n",
    "svg_fname = \"bfo_unlabled.svg\"\n",
    "\n",
    "with open(svg_fname, \"wb\") as svgfile:\n",
    "    svgfile.write(svg_data)\n",
    "    \n",
    "display(HTML(f\"<a href='{svg_fname}'>{svg_fname}</a>\"))\n",
    "\n",
    "HTML(\n",
    "    f'<a href=\"{svg_fname}\" title=\"click for original size\"><img width=\"100%\" src=\"{svg_fname}\"></a>'\n",
    ")"
   ]
  },
  {
   "cell_type": "code",
   "execution_count": null,
   "metadata": {},
   "outputs": [],
   "source": []
  }
 ],
 "metadata": {
  "kernelspec": {
   "display_name": "Python 3",
   "language": "python",
   "name": "python3"
  },
  "language_info": {
   "codemirror_mode": {
    "name": "ipython",
    "version": 3
   },
   "file_extension": ".py",
   "mimetype": "text/x-python",
   "name": "python",
   "nbconvert_exporter": "python",
   "pygments_lexer": "ipython3",
   "version": "3.8.6"
  }
 },
 "nbformat": 4,
 "nbformat_minor": 4
}
